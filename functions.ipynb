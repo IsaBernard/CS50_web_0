{
 "cells": [
  {
   "cell_type": "markdown",
   "metadata": {},
   "source": [
    "# Is the Number Symmetrical?\n",
    "Create a function that takes a number as an argument and returns True or False depending on whether the number is symmetrical or not. A number is symmetrical when it is the same as its reverse."
   ]
  },
  {
   "cell_type": "code",
   "execution_count": 1,
   "metadata": {},
   "outputs": [],
   "source": [
    "def is_symmetrical(num):\n",
    "\treturn str(num) == str(num)[::-1]"
   ]
  },
  {
   "cell_type": "code",
   "execution_count": 2,
   "metadata": {},
   "outputs": [
    {
     "name": "stdout",
     "output_type": "stream",
     "text": [
      "True\n",
      "False\n",
      "True\n",
      "False\n",
      "True\n"
     ]
    }
   ],
   "source": [
    "print(is_symmetrical(7227))\n",
    "print(is_symmetrical(12567))\n",
    "print(is_symmetrical(44444444))\n",
    "print(is_symmetrical(9939))\n",
    "print(is_symmetrical(1112111))"
   ]
  },
  {
   "cell_type": "markdown",
   "metadata": {},
   "source": [
    "# Card Counting (BlackJack)\n",
    "In BlackJack, cards are counted with -1, 0, 1 values:\n",
    "- 2, 3, 4, 5, 6 are counted as +1\n",
    "- 7, 8, 9 are counted as 0\n",
    "- 10, J, Q, K, A are counted as -1\n",
    "Create a function that counts the number and returns it from the list of cards provided.\n",
    "## Notes\n",
    "- String inputs will always be upper case.\n",
    "- You do not need to consider case sensitivity.\n",
    "- If the argument is empty, return 0.\n",
    "- No input other than: 2, 3, 4, 5, 6, 7, 8, 9, 10, \"J\", \"Q\", \"K\", \"A\"."
   ]
  },
  {
   "cell_type": "code",
   "execution_count": 13,
   "metadata": {},
   "outputs": [],
   "source": [
    "# ma fonction\n",
    "def count(deck):\n",
    "    count = 0\n",
    "    for i in deck:\n",
    "        if str(i) in ('23456'):\n",
    "            count+=1\n",
    "        elif str(i) in ('10JQKA'):\n",
    "            count-=1\n",
    "    return count"
   ]
  },
  {
   "cell_type": "code",
   "execution_count": 6,
   "metadata": {},
   "outputs": [
    {
     "data": {
      "text/plain": [
       "1"
      ]
     },
     "execution_count": 6,
     "metadata": {},
     "output_type": "execute_result"
    }
   ],
   "source": [
    "count([5, 9, 10, 3, \"J\", \"A\", 4, 8, 5])"
   ]
  },
  {
   "cell_type": "code",
   "execution_count": 7,
   "metadata": {},
   "outputs": [
    {
     "data": {
      "text/plain": [
       "-6"
      ]
     },
     "execution_count": 7,
     "metadata": {},
     "output_type": "execute_result"
    }
   ],
   "source": [
    "count([\"A\", \"A\", \"K\", \"Q\", \"Q\", \"J\"])"
   ]
  },
  {
   "cell_type": "code",
   "execution_count": 8,
   "metadata": {},
   "outputs": [
    {
     "data": {
      "text/plain": [
       "5"
      ]
     },
     "execution_count": 8,
     "metadata": {},
     "output_type": "execute_result"
    }
   ],
   "source": [
    "count([\"A\", 5, 5, 2, 6, 2, 3, 8, 9, 7])"
   ]
  },
  {
   "cell_type": "code",
   "execution_count": 14,
   "metadata": {},
   "outputs": [],
   "source": [
    "# 2e solution:\n",
    "def count2(deck):\n",
    "\treturn sum([1 if str(i) in '23456' else -1 if str(i) in 'AKQJ10' else 0 for i in deck])"
   ]
  },
  {
   "cell_type": "code",
   "execution_count": 15,
   "metadata": {},
   "outputs": [
    {
     "data": {
      "text/plain": [
       "5"
      ]
     },
     "execution_count": 15,
     "metadata": {},
     "output_type": "execute_result"
    }
   ],
   "source": [
    "count2([\"A\", 5, 5, 2, 6, 2, 3, 8, 9, 7])"
   ]
  },
  {
   "cell_type": "markdown",
   "metadata": {},
   "source": [
    "# Leap year\n",
    "\n",
    "In the Gregorian calendar three criteria must be taken into account to identify leap years:\n",
    "- The year can be evenly divided by 4, is a leap year, unless:\n",
    "    - The year can be evenly divided by 100, it is NOT a leap year, unless:\n",
    "        - The year is also evenly divisible by 400. Then it is a leap year.\n",
    "You are given the year, and you have to write a function to check if the year is leap or not."
   ]
  },
  {
   "cell_type": "code",
   "execution_count": 40,
   "metadata": {},
   "outputs": [],
   "source": [
    "def is_leap(year):\n",
    "    return year%400==0 or ((year%4==0) & (year%100!=0))\n"
   ]
  },
  {
   "cell_type": "code",
   "execution_count": 24,
   "metadata": {},
   "outputs": [
    {
     "data": {
      "text/plain": [
       "True"
      ]
     },
     "execution_count": 24,
     "metadata": {},
     "output_type": "execute_result"
    }
   ],
   "source": [
    "is_leap(2000)"
   ]
  },
  {
   "cell_type": "code",
   "execution_count": 25,
   "metadata": {},
   "outputs": [
    {
     "data": {
      "text/plain": [
       "True"
      ]
     },
     "execution_count": 25,
     "metadata": {},
     "output_type": "execute_result"
    }
   ],
   "source": [
    "is_leap(2400)"
   ]
  },
  {
   "cell_type": "code",
   "execution_count": 26,
   "metadata": {},
   "outputs": [
    {
     "data": {
      "text/plain": [
       "False"
      ]
     },
     "execution_count": 26,
     "metadata": {},
     "output_type": "execute_result"
    }
   ],
   "source": [
    "is_leap(1800)"
   ]
  },
  {
   "cell_type": "code",
   "execution_count": 41,
   "metadata": {},
   "outputs": [
    {
     "data": {
      "text/plain": [
       "True"
      ]
     },
     "execution_count": 41,
     "metadata": {},
     "output_type": "execute_result"
    }
   ],
   "source": [
    "is_leap(1992)"
   ]
  },
  {
   "cell_type": "markdown",
   "metadata": {},
   "source": [
    "# Compound Interest\n",
    "Suppose that you invest $10,000 for 10 years at an interest rate of 6% compounded monthly. What will be the value of your investment at the end of the 10 year period?\n",
    "\n",
    "Create a function that accepts the principal p, the term in years t, the interest rate r, and the number of compounding periods per year n. The function returns the value at the end of term rounded to the nearest cent."
   ]
  },
  {
   "cell_type": "code",
   "execution_count": 11,
   "metadata": {},
   "outputs": [],
   "source": [
    "def compound_interest(p, t, r, n):\n",
    "    for y in range(t):\n",
    "        for m in range(n):\n",
    "            p += p*(r/n)\n",
    "    return round(p,2)"
   ]
  },
  {
   "cell_type": "code",
   "execution_count": 14,
   "metadata": {},
   "outputs": [
    {
     "data": {
      "text/plain": [
       "211471.56"
      ]
     },
     "execution_count": 14,
     "metadata": {},
     "output_type": "execute_result"
    }
   ],
   "source": [
    "compound_interest(100_000, 5, 0.15, 52)"
   ]
  },
  {
   "cell_type": "markdown",
   "metadata": {},
   "source": [
    "# Letters Only\n",
    "Write a function that removes any non-letters from a string, returning a well-known film title.\n",
    "\n",
    "Ex.:\n",
    "- letters_only(\"R!=:~0o0./c&}9k`60=y\") ➞ \"Rocky\"\n",
    "- letters_only(\"^,]%4B|@56a![0{2m>b1&4i4\") ➞ \"Bambi\"\n",
    "- letters_only(\"^U)6$22>8p).\") ➞ \"Up\""
   ]
  },
  {
   "cell_type": "code",
   "execution_count": 13,
   "metadata": {},
   "outputs": [],
   "source": [
    "# ma solution\n",
    "import re\n",
    "def letters_only(txt):\n",
    "\treturn ''.join(re.findall(\"[A-Za-z]\", txt))"
   ]
  },
  {
   "cell_type": "code",
   "execution_count": 14,
   "metadata": {},
   "outputs": [],
   "source": [
    "# autre bonne solutions \n",
    "\n",
    "def letters_only2(txt):\n",
    "\treturn ''.join(i for i in txt if i.isalpha())\n",
    "\n",
    "\n",
    "import re\n",
    "def letters_only3(txt):\n",
    "\treturn re.sub(r'[^a-zA-Z]', '', txt)"
   ]
  },
  {
   "cell_type": "markdown",
   "metadata": {},
   "source": [
    "# Compare by ASCII Codes\n",
    "\n",
    "Create a function to that compares two words based on the sum of their ASCII codes and returns the word with the smaller ASCII sum. Note: Both words will have strictly different ASCII sums.\n",
    "\n",
    "Ex.:\n",
    "- ascii_sort([\"hey\", \"man\"]) ➞ \"man\"\n",
    "     - [\"h\", \"e\", \"y\"] ➞ sum([104, 101, 121]) ➞ 326\n",
    "     - [\"m\", \"a\", \"n\"] ➞ sum([109, 97, 110]) ➞ 316\n",
    "\n",
    "- ascii_sort([\"majorly\", \"then\"]) ➞ \"then\"\n",
    "\n",
    "- ascii_sort([\"victory\", \"careless\"]) ➞ \"victory\""
   ]
  },
  {
   "cell_type": "code",
   "execution_count": 42,
   "metadata": {},
   "outputs": [],
   "source": [
    "# ma solution\n",
    "def ascii_sort(lst):\n",
    "\tlst2 = []\n",
    "\tfor w in lst:\n",
    "\t\tlst2.append(sum(ord(l) for l in w))\n",
    "\treturn lst[lst2.index(min(lst2))]"
   ]
  },
  {
   "cell_type": "code",
   "execution_count": 43,
   "metadata": {},
   "outputs": [
    {
     "data": {
      "text/plain": [
       "'man'"
      ]
     },
     "execution_count": 43,
     "metadata": {},
     "output_type": "execute_result"
    }
   ],
   "source": [
    "ascii_sort([\"hey\", \"man\"])"
   ]
  },
  {
   "cell_type": "code",
   "execution_count": 44,
   "metadata": {},
   "outputs": [
    {
     "data": {
      "text/plain": [
       "'victory'"
      ]
     },
     "execution_count": 44,
     "metadata": {},
     "output_type": "execute_result"
    }
   ],
   "source": [
    "ascii_sort([\"victory\", \"careless\"])"
   ]
  },
  {
   "cell_type": "markdown",
   "metadata": {},
   "source": [
    "# All Occurrences of an Element in a List\n",
    "Create a function that returns the indices of all occurrences of an item in the list.\n",
    "### Notes\n",
    "- If an element does not exist in a list, return [].\n",
    "- Lists are zero-indexed.\n",
    "- Values in the list will be value-types (don't need to worry about nested lists).\n",
    "### Ex.: \n",
    "- get_indices([\"a\", \"a\", \"b\", \"a\", \"b\", \"a\"], \"a\") ➞ [0, 1, 3, 5]\n",
    "- get_indices([1, 5, 5, 2, 7], 7) ➞ [4]\n",
    "- get_indices([1, 5, 5, 2, 7], 5) ➞ [1, 2]\n",
    "- get_indices([1, 5, 5, 2, 7], 8) ➞ []"
   ]
  },
  {
   "cell_type": "code",
   "execution_count": 6,
   "metadata": {},
   "outputs": [],
   "source": [
    "def get_indices(lst, el):\n",
    "    return  [i for i in range(len(lst)) if lst[i] == el]"
   ]
  },
  {
   "cell_type": "code",
   "execution_count": 3,
   "metadata": {},
   "outputs": [
    {
     "data": {
      "text/plain": [
       "[0, 1, 3, 5]"
      ]
     },
     "execution_count": 3,
     "metadata": {},
     "output_type": "execute_result"
    }
   ],
   "source": [
    "get_indices([\"a\", \"a\", \"b\", \"a\", \"b\", \"a\"], \"a\")"
   ]
  },
  {
   "cell_type": "code",
   "execution_count": 4,
   "metadata": {},
   "outputs": [
    {
     "data": {
      "text/plain": [
       "[4]"
      ]
     },
     "execution_count": 4,
     "metadata": {},
     "output_type": "execute_result"
    }
   ],
   "source": [
    "get_indices([1, 5, 5, 2, 7], 7)"
   ]
  },
  {
   "cell_type": "code",
   "execution_count": 5,
   "metadata": {},
   "outputs": [
    {
     "data": {
      "text/plain": [
       "[]"
      ]
     },
     "execution_count": 5,
     "metadata": {},
     "output_type": "execute_result"
    }
   ],
   "source": [
    "get_indices([1, 5, 5, 2, 7], 8)"
   ]
  },
  {
   "cell_type": "markdown",
   "metadata": {},
   "source": [
    "# Ping! Pong!\n",
    "A game of table tennis almost always sounds like Ping! followed by Pong! Therefore, you know that Player 2 has won if you hear Pong! as the last sound. (since player 1 didn't return the ball back)\n",
    "Given a list of Ping!, create a function which inserts Pong! in between each element. Also:\n",
    "- If win equals True, end the list with Pong!\n",
    "- If win equals False, end with Ping! instead.\n",
    "- Return a list\n",
    "### Examples \n",
    "- pingPong(['Ping!', 'Ping!', 'Ping!'], True) ➞ ['Ping!', 'Pong!', 'Ping!', 'Pong!', 'Ping!', 'Pong!']\n",
    "\n",
    "- pingPong(['Ping!', 'Ping!'], False) ➞ ['Ping!', 'Pong!', 'Ping!']\n",
    "\n",
    "- pingPong(['Ping!'], True) ➞ ['Ping!', 'Pong!']"
   ]
  },
  {
   "cell_type": "code",
   "execution_count": 29,
   "metadata": {},
   "outputs": [],
   "source": [
    "# solution\n",
    "def pingPong(lst, win):\n",
    "\tres = ['Ping!', 'Pong!'] * len(lst)\n",
    "\treturn res if win else res[:-1]"
   ]
  },
  {
   "cell_type": "code",
   "execution_count": null,
   "metadata": {},
   "outputs": [],
   "source": []
  }
 ],
 "metadata": {
  "kernelspec": {
   "display_name": "Python 3",
   "language": "python",
   "name": "python3"
  },
  "language_info": {
   "codemirror_mode": {
    "name": "ipython",
    "version": 3
   },
   "file_extension": ".py",
   "mimetype": "text/x-python",
   "name": "python",
   "nbconvert_exporter": "python",
   "pygments_lexer": "ipython3",
   "version": "3.6.8"
  }
 },
 "nbformat": 4,
 "nbformat_minor": 4
}
